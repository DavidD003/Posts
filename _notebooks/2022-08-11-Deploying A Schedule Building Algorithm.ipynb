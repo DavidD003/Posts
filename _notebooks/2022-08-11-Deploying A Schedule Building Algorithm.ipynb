{
 "cells": [
  {
   "cell_type": "markdown",
   "metadata": {},
   "source": [
    "# Deploying A Schedule Building Algorithm\n",
    "> Automating a manual process!\n",
    "\n",
    "- toc:true\n",
    "- badges: true\n",
    "- comments: true\n",
    "- author: David De Sa\n",
    "- categories: [jupyter]"
   ]
  },
  {
   "cell_type": "markdown",
   "metadata": {},
   "source": [
    "# Context\n",
    "## Goal\n",
    "Deploy an algorithm for schedulers to use that is:\n",
    "\n",
    "-easy to use and learn\n",
    "\n",
    "-transparent\n",
    "\n",
    "-quick\n",
    "\n",
    "-flexible\n",
    "\n",
    "## Motivation\n",
    "In a 24/7 manufacturing environment, the weekend shifts are covered mostly by overtime, which is scheduled according to employee availability, subject to constraints outlined in the labour collective agreement. Due to changing production needs as well as staff availability, the schedule must be re-drafted many times, often on short notice and under tight time constraints. Drafting it is tedious, error-prone, and time consuming. It could be automated.\n",
    "\n",
    "## Challenges\n",
    "-Data being manually entered in a variety of formats or not available in machine readable form. (e.g. total hours, employee type, employee availability, individualized job restrictions, outlier reasons for non-eligibility such as consecutive days worked) This is probably the main challenge!!\n",
    "\n",
    "-Algorithm ambiguity. The collective agreement defines the constraints that each assignment decision is subject to, but doesn't strictly specify all aspects, allowing for arbitrary choice on schedulers part\n",
    "\n",
    "-Many esoteric rules and edge cases around assignments being valid or not, which are also subject to change at time of contract renegotiation.\n",
    "\n",
    "-Usability. The deployment must be available to all schedulers, and have a very low barrier to entry w.r.t. training and usability.\n",
    "\n",
    "## A Bit of Lore\n",
    "The notion of automating the process solution has been bouncing around my head for over a year. I always felt the main challenge was the situation posed by the data... the bad formatting relegated to excel sheets, necessarily made that way from human input and usage modality not being the same as what is best for machine readability. I am very confident I could make something that worked in VBA, but the nature of that language makes it such a pain to develop with, particularly with bad formatting. I knew python was a better solution, but didn't have the bridge between the two to make something that worked. Finally when following the FastAI course I came across the HFS+Gradio wombo combo for sharing python scripts publicly via a great UI. This discovery got me to finally choose to commit to that solution path\n",
    "\n",
    "# Solution\n",
    "## Codebase\n",
    "Using Gradio hosted via HFS for making a python algorithm available with easy integration of inputs and outputs. At first blush I thought that Pandas DataFrames would be the best input mode for tabular data, but ruled that out when HFS didn't allow for bulk copying and pasting. Maybe that was for the best because this pushed me to figure out how to work with the generic File input/output mode. It might be a little more painful to program (have to define methods to identify the right tables within the excel file), but a lot nice on the end user experience (drag and drop relevant files and go!). I was concerned about the extra steps of processing the excel file, but as with everything Python there is a library for that! I started off with some basic tests to ensure that what I wanted/needed to do was possible.\n",
    "\n",
    "### File Manipulation\n",
    "Here is my proof of concept for File manipulation. If copied into an empty Gradio space on HFS, it takes in an excel file, and adds a new table to the spreadsheet. This was all i needed to know that this could be done..."
   ]
  },
  {
   "cell_type": "code",
   "execution_count": null,
   "metadata": {},
   "outputs": [],
   "source": [
    "import gradio as gr\n",
    "import openpyxl as pyxl #openPyXl allows for excel file manipulation in python\n",
    "\n",
    "def myFunction(fl,txt):\n",
    "    myWb=pyxl.load_workbook(fl.name) #Load excel file\n",
    "    tab = pyxl.worksheet.table.Table(displayName=\"Table3\", ref=\"E1:F5\") #Define new table\n",
    "    style = pyxl.worksheet.table.TableStyleInfo(name=\"TableStyleMedium9\",showRowStripes=True, showColumnStripes=True)\n",
    "    tab.tableStyleInfo = style #Assign style to table\n",
    "    ws=myWb.active \n",
    "    ws.add_table(tab) #Add defined table to sheet within the loaded workbook\n",
    "    otpt_fl_name='try.xlsx' \n",
    "    myWb.save(otpt_fl_name) #Save file\n",
    "    return otpt_fl_name #Define output for HFS interface\n",
    "\n",
    "demo = gr.Interface(\n",
    "    myFunction, #Func to take in file and text\n",
    "    [\n",
    "        gr.File(\n",
    "        ),\n",
    "        gr.Textbox(\n",
    "            label=\"Initial text\",\n",
    "            lines=3,\n",
    "            value=\"The quick brown fox jumped over the lazy dogs.\",\n",
    "        ),\n",
    "    ],\n",
    "    gr.File(),\n",
    "    description=\"Enter refusal files\",\n",
    ")\n",
    "demo.launch()"
   ]
  },
  {
   "cell_type": "markdown",
   "metadata": {},
   "source": [
    "### Retrieving Disparate Tables\n",
    "As mentioned previously, one challenge would be to pull data from tables scattered in an unpredictable way throughout the sheet. Here I had to remember that sometimes the easiest way to rob a bank is through the front door, not trying to break through the wall... I simply changed the existing excel template files (filled in by end user) so that the data tables were actually defined as 'Tables' by excel... this made them reference-able by the openPyXl tools. Some further data type transformations were required. Example with a blank book containing a trivial data table called 'tstTbl' in Excel:"
   ]
  },
  {
   "cell_type": "code",
   "execution_count": 15,
   "metadata": {},
   "outputs": [
    {
     "name": "stdout",
     "output_type": "stream",
     "text": [
      "Table cells reference is \"A9\":\n",
      "         0        1        2\n",
      "0  myHead1  myHead2  myHead3\n",
      "1        1        a        .\n",
      "2        2        b        ,\n",
      "3        3        c        ]\n"
     ]
    }
   ],
   "source": [
    "import openpyxl as pyxl\n",
    "import pandas as pd\n",
    "import numpy as np\n",
    "myWb=pyxl.load_workbook('../images/Other_Files/TblTestBook.xlsx') \n",
    "#Didn't think the .. parent directory would work but it does!\n",
    "ws=myWb['Sheet1']\n",
    "tab=ws.tables['tstTbl'] #Pull out table\n",
    "def tbl_to_df(tab):\n",
    "    ref=tab.ref #Pull cell reference to string for display\n",
    "    tab=[[x.value for x in sublist] for sublist in ws[tab.ref]] #Convert to list of lists (each sublist as row of excel table)\n",
    "    return pd.DataFrame(tab) #Convert nested lists to Dataframe\n",
    "print('Table cells reference is \"'+str(ref)+'\":')\n",
    "print(tbl_to_df(tab))"
   ]
  },
  {
   "cell_type": "markdown",
   "metadata": {},
   "source": [
    "And pulling info from multiple tables in a sheet"
   ]
  },
  {
   "cell_type": "code",
   "execution_count": 16,
   "metadata": {},
   "outputs": [
    {
     "name": "stdout",
     "output_type": "stream",
     "text": [
      "Table cells reference is \"A9\":\n",
      "         0        1        2\n",
      "0  myHead1  myHead2  myHead3\n",
      "1        1        a        .\n",
      "2        2        b        ,\n",
      "3        3        c        ]\n",
      "\n",
      "Table cells reference is \"A9\":\n",
      "       0      1\n",
      "0  Names  Hours\n",
      "1  Alice      4\n",
      "2    Bob     20\n",
      "3  Clark      8\n",
      "4   Dave     15\n",
      "\n",
      "Table cells reference is \"A9\":\n",
      "         0      1\n",
      "0    Names  Hours\n",
      "1   Arnold      4\n",
      "2     Bill     60\n",
      "3  Charles     53\n",
      "4     Dick     10\n",
      "\n",
      "Table cells reference is \"A9\":\n",
      "        0      1\n",
      "0   Names  Hours\n",
      "1  Arthur     24\n",
      "2  Blaire     70\n",
      "3   Chuck     22\n",
      "4  Darryl     12\n",
      "\n"
     ]
    }
   ],
   "source": [
    "for t in ws.tables:\n",
    "    tab=ws.tables[t]\n",
    "    tab=tbl_to_df(tab)\n",
    "    print('Table cells reference is \"'+str(ref)+'\":')\n",
    "    print(tab)\n",
    "    print('')"
   ]
  },
  {
   "cell_type": "markdown",
   "metadata": {},
   "source": [
    "At this point I can say I am constantly resisting the urge to just run away with the coding! Trying to enforce a best practice of starting off with creating not just an abstract understanding of the problem, but a particular and specified framework in which I am operating, that is, figuring out the specific nature of the inputs I will have before I go nuts building my tower of babel! Next is to mock up a way to retrieve data when a worksheet has a single 'table' not defined in Excel. That is, manually entered data in a tabular format that due to legacy sheet formatting is not able to be defined as a native Excel Table, precluding the use of table indexing seen in the previous example... My approach assumes a known top left cell, and knowing in my framework that only certain columns will be required here. "
   ]
  },
  {
   "cell_type": "code",
   "execution_count": 6,
   "metadata": {},
   "outputs": [
    {
     "data": {
      "text/html": [
       "<div>\n",
       "<style scoped>\n",
       "    .dataframe tbody tr th:only-of-type {\n",
       "        vertical-align: middle;\n",
       "    }\n",
       "\n",
       "    .dataframe tbody tr th {\n",
       "        vertical-align: top;\n",
       "    }\n",
       "\n",
       "    .dataframe thead th {\n",
       "        text-align: right;\n",
       "    }\n",
       "</style>\n",
       "<table border=\"1\" class=\"dataframe\">\n",
       "  <thead>\n",
       "    <tr style=\"text-align: right;\">\n",
       "      <th></th>\n",
       "      <th>0</th>\n",
       "      <th>1</th>\n",
       "      <th>2</th>\n",
       "      <th>3</th>\n",
       "      <th>4</th>\n",
       "      <th>5</th>\n",
       "      <th>6</th>\n",
       "      <th>7</th>\n",
       "      <th>8</th>\n",
       "    </tr>\n",
       "  </thead>\n",
       "  <tbody>\n",
       "    <tr>\n",
       "      <th>0</th>\n",
       "      <td>None</td>\n",
       "      <td>None</td>\n",
       "      <td>None</td>\n",
       "      <td>None</td>\n",
       "      <td>None</td>\n",
       "      <td>None</td>\n",
       "      <td>None</td>\n",
       "      <td>None</td>\n",
       "      <td>None</td>\n",
       "    </tr>\n",
       "    <tr>\n",
       "      <th>1</th>\n",
       "      <td>None</td>\n",
       "      <td>None</td>\n",
       "      <td>None</td>\n",
       "      <td>None</td>\n",
       "      <td>None</td>\n",
       "      <td>None</td>\n",
       "      <td>None</td>\n",
       "      <td>None</td>\n",
       "      <td>None</td>\n",
       "    </tr>\n",
       "    <tr>\n",
       "      <th>2</th>\n",
       "      <td>Name</td>\n",
       "      <td>id</td>\n",
       "      <td>Attr1</td>\n",
       "      <td>Attr2</td>\n",
       "      <td>Attr3</td>\n",
       "      <td>Attr4</td>\n",
       "      <td>Attr5</td>\n",
       "      <td>Attr6</td>\n",
       "      <td>Attr7</td>\n",
       "    </tr>\n",
       "    <tr>\n",
       "      <th>3</th>\n",
       "      <td>Bob Back</td>\n",
       "      <td>0</td>\n",
       "      <td>=RAND()*5</td>\n",
       "      <td>=RAND()*5</td>\n",
       "      <td>=RAND()*5</td>\n",
       "      <td>=RAND()*5</td>\n",
       "      <td>=RAND()*5</td>\n",
       "      <td>=RAND()*5</td>\n",
       "      <td>=RAND()*5</td>\n",
       "    </tr>\n",
       "    <tr>\n",
       "      <th>4</th>\n",
       "      <td>Jeff Jahl</td>\n",
       "      <td>1</td>\n",
       "      <td>=RAND()*5</td>\n",
       "      <td>=RAND()*5</td>\n",
       "      <td>=RAND()*5</td>\n",
       "      <td>=RAND()*5</td>\n",
       "      <td>=RAND()*5</td>\n",
       "      <td>=RAND()*5</td>\n",
       "      <td>=RAND()*5</td>\n",
       "    </tr>\n",
       "    <tr>\n",
       "      <th>5</th>\n",
       "      <td>Hodge Hoss</td>\n",
       "      <td>2</td>\n",
       "      <td>=RAND()*5</td>\n",
       "      <td>=RAND()*5</td>\n",
       "      <td>=RAND()*5</td>\n",
       "      <td>=RAND()*5</td>\n",
       "      <td>=RAND()*5</td>\n",
       "      <td>=RAND()*5</td>\n",
       "      <td>=RAND()*5</td>\n",
       "    </tr>\n",
       "    <tr>\n",
       "      <th>6</th>\n",
       "      <td>Kev Kroll</td>\n",
       "      <td>3</td>\n",
       "      <td>=RAND()*5</td>\n",
       "      <td>=RAND()*5</td>\n",
       "      <td>=RAND()*5</td>\n",
       "      <td>=RAND()*5</td>\n",
       "      <td>=RAND()*5</td>\n",
       "      <td>=RAND()*5</td>\n",
       "      <td>=RAND()*5</td>\n",
       "    </tr>\n",
       "    <tr>\n",
       "      <th>7</th>\n",
       "      <td>Tim Tin</td>\n",
       "      <td>4</td>\n",
       "      <td>=RAND()*5</td>\n",
       "      <td>=RAND()*5</td>\n",
       "      <td>=RAND()*5</td>\n",
       "      <td>=RAND()*5</td>\n",
       "      <td>=RAND()*5</td>\n",
       "      <td>=RAND()*5</td>\n",
       "      <td>=RAND()*5</td>\n",
       "    </tr>\n",
       "  </tbody>\n",
       "</table>\n",
       "</div>"
      ],
      "text/plain": [
       "            0     1          2          3          4          5          6  \\\n",
       "0        None  None       None       None       None       None       None   \n",
       "1        None  None       None       None       None       None       None   \n",
       "2        Name    id      Attr1      Attr2      Attr3      Attr4      Attr5   \n",
       "3    Bob Back     0  =RAND()*5  =RAND()*5  =RAND()*5  =RAND()*5  =RAND()*5   \n",
       "4   Jeff Jahl     1  =RAND()*5  =RAND()*5  =RAND()*5  =RAND()*5  =RAND()*5   \n",
       "5  Hodge Hoss     2  =RAND()*5  =RAND()*5  =RAND()*5  =RAND()*5  =RAND()*5   \n",
       "6   Kev Kroll     3  =RAND()*5  =RAND()*5  =RAND()*5  =RAND()*5  =RAND()*5   \n",
       "7     Tim Tin     4  =RAND()*5  =RAND()*5  =RAND()*5  =RAND()*5  =RAND()*5   \n",
       "\n",
       "           7          8  \n",
       "0       None       None  \n",
       "1       None       None  \n",
       "2      Attr6      Attr7  \n",
       "3  =RAND()*5  =RAND()*5  \n",
       "4  =RAND()*5  =RAND()*5  \n",
       "5  =RAND()*5  =RAND()*5  \n",
       "6  =RAND()*5  =RAND()*5  \n",
       "7  =RAND()*5  =RAND()*5  "
      ]
     },
     "execution_count": 6,
     "metadata": {},
     "output_type": "execute_result"
    }
   ],
   "source": [
    "ws=myWb['Arb_Tbl']\n",
    "df = pd.DataFrame(ws.values)\n",
    "df"
   ]
  },
  {
   "cell_type": "markdown",
   "metadata": {},
   "source": [
    "Above we can see the loose table in the wild... ws.values pulls the whole sheet, which would be good, except it grabs formulas. Unfortunately, per the docs, openPyXl will never evaluate formulas! Time to work smart, not hard. I choose to simply use the 'mouse wriggle' technique shared at this webpage ( https://trumpexcel.com/convert-formulas-to-values-excel/ ) to manually convert formulas to values before passing my workbook into my functions. Though it *is* sad that the user experience won't be as smooth as dragging and dropping files."
   ]
  },
  {
   "cell_type": "code",
   "execution_count": 18,
   "metadata": {},
   "outputs": [
    {
     "name": "stdout",
     "output_type": "stream",
     "text": [
      "            0   1         2         3         4         5         6         7  \\\n",
      "0        Name  id     Attr1     Attr2     Attr3     Attr4     Attr5     Attr6   \n",
      "1    Bob Back   0  0.666338  0.778057  4.822291  1.632892  2.374052  2.922761   \n",
      "2   Jeff Jahl   1  3.865002  4.639129  4.989458  3.552441  0.809309   0.61727   \n",
      "3  Hodge Hoss   2  3.088418  0.360548  0.416228  1.700045  3.059734  0.443541   \n",
      "4   Kev Kroll   3  3.466984  3.967881  2.390047   0.40636   4.68963  0.376537   \n",
      "5     Tim Tin   4  2.910975  1.203692  0.146427  1.411585  0.963408  0.467773   \n",
      "\n",
      "          8  \n",
      "0     Attr7  \n",
      "1   3.91101  \n",
      "2  4.264042  \n",
      "3  4.720742  \n",
      "4  1.797408  \n",
      "5  0.369525  \n"
     ]
    }
   ],
   "source": [
    "#Reload new book with static data\n",
    "myWb=pyxl.load_workbook('../images/Other_Files/TblAsValues.xlsx') \n",
    "ws=myWb['Arb_Tbl']\n",
    "#1st find bottom row with data\n",
    "for i in range(3,200): #Loop up to arbitrary number, prefer to have defined end for infinte loop stopgap\n",
    "    ref=\"A\"+str(i) \n",
    "    if ws[ref].internal_value==None: \n",
    "        #Condition met when end of data found.\n",
    "        btmRow=i-1\n",
    "        break\n",
    "tab=[[x.internal_value for x in sublist] for sublist in ws['A3:I'+str(btmRow)]]\n",
    "df_IdNameHours=pd.DataFrame(tab) #Assuming column I is end of useful data\n",
    "print(df_IdNameHours)"
   ]
  },
  {
   "cell_type": "markdown",
   "metadata": {},
   "source": [
    "Of course, the actual code deployed is more complex than this... In particular is the case of converting a data table indicating who is trained on what in human readable form to one that is more machine readable. The existing process has a table with one row for each staff person, with one column for each job, and a 1 or 0 if the person is trained or not"
   ]
  },
  {
   "cell_type": "code",
   "execution_count": 20,
   "metadata": {},
   "outputs": [
    {
     "name": "stdout",
     "output_type": "stream",
     "text": [
      "         0     1       2     3     4       5\n",
      "0  Column1  Brew  Filter  Pack  Ship  Manage\n",
      "1   Alfred     1       0     0     1       0\n",
      "2     Bill     0       1     0     0       1\n",
      "3    Chris     1       1     1     0       0\n",
      "4    Dante     1       0     0     0       1\n",
      "5    Edgar     0       0     1     1       0\n",
      "\n",
      "         0       1\n",
      "0   Alfred    Brew\n",
      "1   Alfred    Ship\n",
      "2     Bill  Filter\n",
      "3     Bill  Manage\n",
      "4    Chris    Brew\n",
      "5    Chris  Filter\n",
      "6    Chris    Pack\n",
      "7    Dante    Brew\n",
      "8    Dante  Manage\n",
      "9    Edgar    Pack\n",
      "10   Edgar    Ship\n"
     ]
    }
   ],
   "source": [
    "ws=myWb['Skills_Matrix']\n",
    "dataArr=np.array(pd.DataFrame(ws.values)) #Convert data table (skill matrix format) into data table (skills record format)\n",
    "skills=[] #Initiate new container\n",
    "for individual in dataArr[1:]: #iterate over all data rows\n",
    "    for skl in range(1,len(individual)): #iterate over indices not containing the name\n",
    "        if individual[skl]==1:\n",
    "            skills.append([individual[0],dataArr[0][skl]])\n",
    "dataArr=pd.DataFrame(skills)\n",
    "print(tbl_to_df(ws.tables['Skills_Mtx']))\n",
    "print('')\n",
    "print(dataArr)"
   ]
  },
  {
   "cell_type": "code",
   "execution_count": null,
   "metadata": {},
   "outputs": [],
   "source": []
  },
  {
   "cell_type": "code",
   "execution_count": null,
   "metadata": {},
   "outputs": [],
   "source": []
  }
 ],
 "metadata": {
  "kernelspec": {
   "display_name": "Python 3.9.12 ('base')",
   "language": "python",
   "name": "python3"
  },
  "language_info": {
   "codemirror_mode": {
    "name": "ipython",
    "version": 3
   },
   "file_extension": ".py",
   "mimetype": "text/x-python",
   "name": "python",
   "nbconvert_exporter": "python",
   "pygments_lexer": "ipython3",
   "version": "3.9.12"
  },
  "orig_nbformat": 4,
  "vscode": {
   "interpreter": {
    "hash": "ad2bdc8ecc057115af97d19610ffacc2b4e99fae6737bb82f5d7fb13d2f2c186"
   }
  }
 },
 "nbformat": 4,
 "nbformat_minor": 2
}
