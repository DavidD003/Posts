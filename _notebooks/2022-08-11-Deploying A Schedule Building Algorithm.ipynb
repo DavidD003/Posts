{
 "cells": [
  {
   "cell_type": "markdown",
   "metadata": {},
   "source": [
    "# Deploying A Schedule Building Algorithm\n",
    "> Automating a manual process!\n",
    "\n",
    "- toc:true\n",
    "- badges: true\n",
    "- comments: true\n",
    "- author: David De Sa\n",
    "- categories: [jupyter]"
   ]
  },
  {
   "cell_type": "markdown",
   "metadata": {},
   "source": [
    "# Context\n",
    "## Goal\n",
    "Deploy an algorithm for schedulers to use that is:\n",
    "\n",
    "-easy to use and learn\n",
    "\n",
    "-transparent\n",
    "\n",
    "-quick\n",
    "\n",
    "-flexible\n",
    "\n",
    "## Motivation\n",
    "In a 24/7 manufacturing environment, the weekend shifts are covered mostly by overtime, which is scheduled according to employee availability, subject to constraints outlined in the labour collective agreement. Due to changing production needs as well as staff availability, the schedule must be re-drafted many times, often on short notice and under tight time constraints. Drafting it is tedious, error-prone, and time consuming. It could be automated.\n",
    "\n",
    "## Challenges\n",
    "-Data being manually entered in a variety of formats or not available in machine readable form. (e.g. total hours, employee type, employee availability, individualized job restrictions, outlier reasons for non-eligibility such as consecutive days worked) This is probably the main challenge!!\n",
    "\n",
    "-Algorithm ambiguity. The collective agreement defines the constraints that each assignment decision is subject to, but doesn't strictly specify all aspects, allowing for arbitrary choice on schedulers part\n",
    "\n",
    "-Many esoteric rules and edge cases around assignments being valid or not, which are also subject to change at time of contract renegotiation.\n",
    "\n",
    "-Usability. The deployment must be available to all schedulers, and have a very low barrier to entry w.r.t. training and usability.\n",
    "\n",
    "## A Bit Of Lore\n",
    "The notion of automating the process solution has been bouncing around my head for over a year. I always felt the main challenge was the situation posed by the data... the bad formatting relegated to excel sheets, necessarily made that way from human input and usage modality not being the same as what is best for machine readability. I am very confident I could make something that worked in VBA, but the nature of that language makes it such a pain to develop with, particularly with bad formatting. I knew python was a better solution, but didn't have the bridge between the two to make something that worked. Finally when following the FastAI course I came across the HFS+Gradio wombo combo for sharing python scripts publicly via a great UI. This discovery got me to finally choose to commit to that solution path\n",
    "\n",
    "# Solution\n",
    "## Codebase\n",
    "Using Gradio hosted via HFS for making a python algorithm available with easy integration of inputs and outputs. At first blush I thought that Pandas DataFrames would be the best input mode for tabular data, but ruled that out when HFS didn't allow for bulk copying and pasting. Maybe that was for the best because this pushed me to figure out how to work with the generic File input/output mode. It might be a little more painful to program (have to define methods to identify the right tables within the excel file), but a lot nice on the end user experience (drag and drop relevant files and go!). I was concerned about the extra steps of processing the excel file, but as with everything Python there is a library for that! I started off with some basic tests to ensure that what I wanted/needed to do was possible.\n",
    "\n",
    "### File Manipulation\n",
    "Here is my proof of concept for File manipulation. If copied into an empty Gradio space on HFS, it takes in an excel file, and adds a new table to the spreadsheet. This was all i needed to know that this could be done..."
   ]
  },
  {
   "cell_type": "code",
   "execution_count": null,
   "metadata": {},
   "outputs": [],
   "source": [
    "import gradio as gr\n",
    "import openpyxl as pyxl #openPyXl allows for excel file manipulation in python\n",
    "\n",
    "def myFunction(fl,txt):\n",
    "    myWb=pyxl.load_workbook(fl.name) #Load excel file\n",
    "    tab = pyxl.worksheet.table.Table(displayName=\"Table3\", ref=\"E1:F5\") #Define new table\n",
    "    style = pyxl.worksheet.table.TableStyleInfo(name=\"TableStyleMedium9\",showRowStripes=True, showColumnStripes=True)\n",
    "    tab.tableStyleInfo = style #Assign style to table\n",
    "    ws=myWb.active \n",
    "    ws.add_table(tab) #Add defined table to sheet within the loaded workbook\n",
    "    otpt_fl_name='try.xlsx' \n",
    "    myWb.save(otpt_fl_name) #Save file\n",
    "    return otpt_fl_name #Define output for HFS interface\n",
    "\n",
    "demo = gr.Interface(\n",
    "    myFunction, #Func to take in file and text\n",
    "    [\n",
    "        gr.File(\n",
    "        ),\n",
    "        gr.Textbox(\n",
    "            label=\"Initial text\",\n",
    "            lines=3,\n",
    "            value=\"The quick brown fox jumped over the lazy dogs.\",\n",
    "        ),\n",
    "    ],\n",
    "    gr.File(),\n",
    "    description=\"Enter refusal files\",\n",
    ")\n",
    "demo.launch()"
   ]
  },
  {
   "cell_type": "markdown",
   "metadata": {},
   "source": [
    "### Retrieving Disparate Tables\n",
    "As mentioned previously, one challenge would be to pull data from tables scattered in an unpredictable way throughout the sheet. Here I had to remember that sometimes the easiest way to rob a bank is through the front door, not trying to break through the wall... I simply changed the existing excel template files (filled in by end user) so that the data tables were actually defined as 'Tables' by excel... this made them reference-able by the openPyXl tools. Some further data type transformations were required. Example with a blank book containing a trivial data table called 'tstTbl' in Excel:"
   ]
  },
  {
   "cell_type": "code",
   "execution_count": 1,
   "metadata": {},
   "outputs": [
    {
     "ename": "ModuleNotFoundError",
     "evalue": "No module named 'openpyxl'",
     "output_type": "error",
     "traceback": [
      "\u001b[0;31m---------------------------------------------------------------------------\u001b[0m",
      "\u001b[0;31mModuleNotFoundError\u001b[0m                       Traceback (most recent call last)",
      "\u001b[1;32m/mnt/c/Cloned_Repositories/Posts/_notebooks/2022-08-11-Deploying A Schedule Building Algorithm.ipynb Cell 5\u001b[0m in \u001b[0;36m<cell line: 1>\u001b[0;34m()\u001b[0m\n\u001b[0;32m----> <a href='vscode-notebook-cell://wsl%2Bubuntu-22.04/mnt/c/Cloned_Repositories/Posts/_notebooks/2022-08-11-Deploying%20A%20Schedule%20Building%20Algorithm.ipynb#W4sdnNjb2RlLXJlbW90ZQ%3D%3D?line=0'>1</a>\u001b[0m \u001b[39mimport\u001b[39;00m \u001b[39mopenpyxl\u001b[39;00m \u001b[39mas\u001b[39;00m \u001b[39mpyxl\u001b[39;00m\n\u001b[1;32m      <a href='vscode-notebook-cell://wsl%2Bubuntu-22.04/mnt/c/Cloned_Repositories/Posts/_notebooks/2022-08-11-Deploying%20A%20Schedule%20Building%20Algorithm.ipynb#W4sdnNjb2RlLXJlbW90ZQ%3D%3D?line=1'>2</a>\u001b[0m \u001b[39mimport\u001b[39;00m \u001b[39mpandas\u001b[39;00m \u001b[39mas\u001b[39;00m \u001b[39mpd\u001b[39;00m\n\u001b[1;32m      <a href='vscode-notebook-cell://wsl%2Bubuntu-22.04/mnt/c/Cloned_Repositories/Posts/_notebooks/2022-08-11-Deploying%20A%20Schedule%20Building%20Algorithm.ipynb#W4sdnNjb2RlLXJlbW90ZQ%3D%3D?line=2'>3</a>\u001b[0m \u001b[39mimport\u001b[39;00m \u001b[39mnumpy\u001b[39;00m \u001b[39mas\u001b[39;00m \u001b[39mnp\u001b[39;00m\n",
      "\u001b[0;31mModuleNotFoundError\u001b[0m: No module named 'openpyxl'"
     ]
    }
   ],
   "source": [
    "import openpyxl as pyxl\n",
    "import pandas as pd\n",
    "import numpy as np\n",
    "myWb=pyxl.load_workbook('../images/Other_Files/TblTestBook.xlsx') \n",
    "#Didn't think the .. parent directory would work but it does!\n",
    "ws=myWb['Sheet1']\n",
    "tab=ws.tables['tstTbl'] #Pull out table\n",
    "ref=tab.ref\n",
    "tab=[[x.value for x in sublist] for sublist in ws[tab.ref]] #Convert to list of lists\n",
    "tab=pd.DataFrame(tab)\n",
    "print('Table cells reference is \"'+str(ref)+'\":')\n",
    "print(tab)"
   ]
  },
  {
   "cell_type": "code",
   "execution_count": null,
   "metadata": {},
   "outputs": [],
   "source": []
  }
 ],
 "metadata": {
  "kernelspec": {
   "display_name": "Python 3.9.13 ('base')",
   "language": "python",
   "name": "python3"
  },
  "language_info": {
   "codemirror_mode": {
    "name": "ipython",
    "version": 3
   },
   "file_extension": ".py",
   "mimetype": "text/x-python",
   "name": "python",
   "nbconvert_exporter": "python",
   "pygments_lexer": "ipython3",
   "version": "3.9.13"
  },
  "orig_nbformat": 4,
  "vscode": {
   "interpreter": {
    "hash": "46ee3aad7d968da5fbda1e45dcbf40e66835965723034c0bf64bf9d08dd31d59"
   }
  }
 },
 "nbformat": 4,
 "nbformat_minor": 2
}
