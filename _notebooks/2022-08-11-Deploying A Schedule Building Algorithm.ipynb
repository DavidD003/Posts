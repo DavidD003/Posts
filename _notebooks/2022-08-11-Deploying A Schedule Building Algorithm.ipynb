{
 "cells": [
  {
   "cell_type": "markdown",
   "metadata": {},
   "source": [
    "# Deploying A Schedule Building Algorithm\n",
    "> Automating a manual process!\n",
    "\n",
    "- toc:true\n",
    "- badges: true\n",
    "- comments: true\n",
    "- author: David De Sa\n",
    "- categories: [jupyter]"
   ]
  },
  {
   "cell_type": "markdown",
   "metadata": {},
   "source": [
    "# Context\n",
    "# Goal\n",
    "Deploy an algorithm for schedulers to use that is:\n",
    "-easy to use and learn\n",
    "-transparent\n",
    "-quick\n",
    "-flexible\n",
    "\n",
    "# Intro \n",
    "## Motivation\n",
    "In a 24/7 manufacturing environment, the weekend shifts are covered mostly by overtime, which is scheduled according to employee availability, subject to constraints outlined in the labour collective agreement. Due to changing production needs as well as staff availability, the schedule must be re-drafted many times, often on short notice and under tight time constraints. Drafting it is tedious, error-prone, and time consuming. It could be automated.\n",
    "\n",
    "## Challenges\n",
    "-Data being manually entered in a variety of formats or not available in machine readable form. (e.g. total hours, employee type, employee availability, individualized job restrictions, outlier reasons for non-eligibility such as consecutive days worked) This is probably the main challenge!!\n",
    "-Algorithm ambiguity. The collective agreement defines the constraints that each assignment decision is subject to, but doesn't strictly specify all aspects, allowing for arbitrary choice on schedulers part\n",
    "-Many esoteric rules and edge cases around assignments being valid or not, which are also subject to change at time of contract renegotiation.\n",
    "-Usability. The deployment must be available to all schedulers, and have a very low barrier to entry w.r.t. training and usability.\n",
    "\n",
    "## A Bit Of Lore\n",
    "The notion of automating the process solution has been bouncing around my head for over a year. I always felt the main challenge was the situation posed by the data... the bad formatting relegated to excel sheets, necessarily amde that way from human input and usage modality not being the same as what is best for machine readability.\n",
    "\n",
    "# Solution\n",
    "\n"
   ]
  }
 ],
 "metadata": {
  "kernelspec": {
   "display_name": "Python 3.10.4 64-bit",
   "language": "python",
   "name": "python3"
  },
  "language_info": {
   "name": "python",
   "version": "3.10.4"
  },
  "orig_nbformat": 4,
  "vscode": {
   "interpreter": {
    "hash": "916dbcbb3f70747c44a77c7bcd40155683ae19c65e1c03b4aa3499c5328201f1"
   }
  }
 },
 "nbformat": 4,
 "nbformat_minor": 2
}
