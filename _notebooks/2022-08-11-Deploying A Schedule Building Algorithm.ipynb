{
 "cells": [
  {
   "cell_type": "markdown",
   "metadata": {},
   "source": [
    "# Deploying A Schedule Building Algorithm\n",
    "> Automating a manual process!\n",
    "\n",
    "- toc:true\n",
    "- badges: true\n",
    "- comments: true\n",
    "- author: David De Sa\n",
    "- categories: [jupyter]"
   ]
  },
  {
   "cell_type": "markdown",
   "metadata": {},
   "source": [
    "# Context\n",
    "## Goal\n",
    "Deploy an algorithm for schedulers to use that is:\n",
    "\n",
    "-easy to use and learn\n",
    "\n",
    "-transparent\n",
    "\n",
    "-quick\n",
    "\n",
    "-flexible\n",
    "\n",
    "## Motivation\n",
    "In a 24/7 manufacturing environment, the weekend shifts are covered mostly by overtime, which is scheduled according to employee availability, subject to constraints outlined in the labour collective agreement. Due to changing production needs as well as staff availability, the schedule must be re-drafted many times, often on short notice and under tight time constraints. Drafting it is tedious, error-prone, and time consuming. It could be automated.\n",
    "\n",
    "## Challenges\n",
    "-Data being manually entered in a variety of formats or not available in machine readable form. (e.g. total hours, employee type, employee availability, individualized job restrictions, outlier reasons for non-eligibility such as consecutive days worked) This is probably the main challenge!!\n",
    "\n",
    "-Algorithm ambiguity. The collective agreement defines the constraints that each assignment decision is subject to, but doesn't strictly specify all aspects, allowing for arbitrary choice on schedulers part\n",
    "\n",
    "-Many esoteric rules and edge cases around assignments being valid or not, which are also subject to change at time of contract renegotiation.\n",
    "\n",
    "-Usability. The deployment must be available to all schedulers, and have a very low barrier to entry w.r.t. training and usability.\n",
    "\n",
    "## A Bit Of Lore\n",
    "The notion of automating the process solution has been bouncing around my head for over a year. I always felt the main challenge was the situation posed by the data... the bad formatting relegated to excel sheets, necessarily made that way from human input and usage modality not being the same as what is best for machine readability. I am very confident I could make something that worked in VBA, but the nature of that language makes it such a pain to develop with, particularly with bad formatting. I knew python was a better solution, but didn't have the bridge between the two to make something that worked. Finally when following the FastAI course I came across the HFS+Gradio wombo combo for sharing python scripts publicly via a great UI. This discovery got me to finally choose to commit to that solution path\n",
    "\n",
    "# Solution\n",
    "## Codebase\n",
    "Maybe not the right but anyways.. Using Gradio hosted via HFS for making a python algorithm available with easy integration of inputs and outputs. Pandas Dataframe will provide the main input/output modality, as Gradio allows for copying/pasting from spreadsheet \n",
    "\n",
    "Quick ideas:\n",
    "- Can't paste to data frame :(\n",
    "\n",
    "- Will have to upload CSV with tables via file upload\n",
    "\n",
    "- generate dataframe from CSV (output it within gradio to double check it?)\n",
    "\n",
    "- Try to set up dataframes and the way they are drawn on in such a way that minimal changes need to be added/removed from existing tables structure. \n",
    "\n",
    "-Feature design... can reference existing columns to determine columns that aren't existing. e.g. probationary if refusals is 10K+? temp if esniority column is hire date? And then modularity in functions everywhere.. e.g. seniority comparison function that takes in EEtype to deterine comparison modality?\n"
   ]
  }
 ],
 "metadata": {
  "kernelspec": {
   "display_name": "Python 3.10.4 64-bit",
   "language": "python",
   "name": "python3"
  },
  "language_info": {
   "name": "python",
   "version": "3.10.4"
  },
  "orig_nbformat": 4,
  "vscode": {
   "interpreter": {
    "hash": "916dbcbb3f70747c44a77c7bcd40155683ae19c65e1c03b4aa3499c5328201f1"
   }
  }
 },
 "nbformat": 4,
 "nbformat_minor": 2
}
